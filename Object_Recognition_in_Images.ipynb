{
 "cells": [
  {
   "cell_type": "code",
   "execution_count": 1,
   "id": "6c7bea7e",
   "metadata": {
    "_cell_guid": "b1076dfc-b9ad-4769-8c92-a6c4dae69d19",
    "_uuid": "8f2839f25d086af736a60e9eeb907d3b93b6e0e5",
    "execution": {
     "iopub.execute_input": "2025-03-26T22:49:32.860698Z",
     "iopub.status.busy": "2025-03-26T22:49:32.860356Z",
     "iopub.status.idle": "2025-03-26T22:49:34.698379Z",
     "shell.execute_reply": "2025-03-26T22:49:34.697661Z"
    },
    "papermill": {
     "duration": 1.848258,
     "end_time": "2025-03-26T22:49:34.699960",
     "exception": false,
     "start_time": "2025-03-26T22:49:32.851702",
     "status": "completed"
    },
    "tags": []
   },
   "outputs": [],
   "source": [
    "import os\n",
    "import numpy as np # linear algebra\n",
    "import pandas as pd # data processing, CSV file I/O (e.g. pd.read_csv)\n",
    "from PIL import Image\n",
    "import matplotlib.pyplot as plt\n",
    "import matplotlib.image as mpimg\n",
    "from sklearn.model_selection import train_test_split"
   ]
  },
  {
   "cell_type": "code",
   "execution_count": 2,
   "id": "e12e62bc",
   "metadata": {
    "execution": {
     "iopub.execute_input": "2025-03-26T22:49:34.713709Z",
     "iopub.status.busy": "2025-03-26T22:49:34.713358Z",
     "iopub.status.idle": "2025-03-26T22:49:35.334041Z",
     "shell.execute_reply": "2025-03-26T22:49:35.333159Z"
    },
    "papermill": {
     "duration": 0.628901,
     "end_time": "2025-03-26T22:49:35.335525",
     "exception": false,
     "start_time": "2025-03-26T22:49:34.706624",
     "status": "completed"
    },
    "tags": []
   },
   "outputs": [
    {
     "data": {
      "text/plain": [
       "list"
      ]
     },
     "execution_count": 2,
     "metadata": {},
     "output_type": "execute_result"
    }
   ],
   "source": [
    "filenames = os.listdir('/kaggle/input/cifar-10-competition-dataset/train/train')\n",
    "type(filenames)"
   ]
  },
  {
   "cell_type": "code",
   "execution_count": 3,
   "id": "99c740a6",
   "metadata": {
    "execution": {
     "iopub.execute_input": "2025-03-26T22:49:35.351391Z",
     "iopub.status.busy": "2025-03-26T22:49:35.351011Z",
     "iopub.status.idle": "2025-03-26T22:49:35.355724Z",
     "shell.execute_reply": "2025-03-26T22:49:35.354920Z"
    },
    "papermill": {
     "duration": 0.013826,
     "end_time": "2025-03-26T22:49:35.357125",
     "exception": false,
     "start_time": "2025-03-26T22:49:35.343299",
     "status": "completed"
    },
    "tags": []
   },
   "outputs": [
    {
     "data": {
      "text/plain": [
       "50000"
      ]
     },
     "execution_count": 3,
     "metadata": {},
     "output_type": "execute_result"
    }
   ],
   "source": [
    "len(filenames)"
   ]
  },
  {
   "cell_type": "code",
   "execution_count": 4,
   "id": "c0674bc4",
   "metadata": {
    "execution": {
     "iopub.execute_input": "2025-03-26T22:49:35.370260Z",
     "iopub.status.busy": "2025-03-26T22:49:35.370041Z",
     "iopub.status.idle": "2025-03-26T22:49:35.373957Z",
     "shell.execute_reply": "2025-03-26T22:49:35.373225Z"
    },
    "papermill": {
     "duration": 0.011769,
     "end_time": "2025-03-26T22:49:35.375185",
     "exception": false,
     "start_time": "2025-03-26T22:49:35.363416",
     "status": "completed"
    },
    "tags": []
   },
   "outputs": [
    {
     "name": "stdout",
     "output_type": "stream",
     "text": [
      "['27147.png', '32352.png', '41695.png', '21130.png', '36145.png']\n"
     ]
    }
   ],
   "source": [
    "print(filenames[:5])"
   ]
  },
  {
   "cell_type": "code",
   "execution_count": 5,
   "id": "cb28ca4e",
   "metadata": {
    "execution": {
     "iopub.execute_input": "2025-03-26T22:49:35.388268Z",
     "iopub.status.busy": "2025-03-26T22:49:35.388038Z",
     "iopub.status.idle": "2025-03-26T22:49:35.391758Z",
     "shell.execute_reply": "2025-03-26T22:49:35.391152Z"
    },
    "papermill": {
     "duration": 0.011662,
     "end_time": "2025-03-26T22:49:35.393073",
     "exception": false,
     "start_time": "2025-03-26T22:49:35.381411",
     "status": "completed"
    },
    "tags": []
   },
   "outputs": [
    {
     "name": "stdout",
     "output_type": "stream",
     "text": [
      "['48768.png', '37246.png', '23121.png', '36054.png', '4164.png']\n"
     ]
    }
   ],
   "source": [
    "print(filenames[-5:])"
   ]
  },
  {
   "cell_type": "code",
   "execution_count": 6,
   "id": "122fc68b",
   "metadata": {
    "execution": {
     "iopub.execute_input": "2025-03-26T22:49:35.406316Z",
     "iopub.status.busy": "2025-03-26T22:49:35.406108Z",
     "iopub.status.idle": "2025-03-26T22:49:35.409148Z",
     "shell.execute_reply": "2025-03-26T22:49:35.408496Z"
    },
    "papermill": {
     "duration": 0.011042,
     "end_time": "2025-03-26T22:49:35.410258",
     "exception": false,
     "start_time": "2025-03-26T22:49:35.399216",
     "status": "completed"
    },
    "tags": []
   },
   "outputs": [],
   "source": [
    "Train = '/kaggle/input/cifar-10-competition-dataset/train'\n",
    "Train_Label = '/kaggle/input/cifar-10-competition-dataset/trainLabels.csv'\n",
    "Test = '/kaggle/input/cifar-10-competition-dataset/test'"
   ]
  },
  {
   "cell_type": "code",
   "execution_count": 7,
   "id": "38102ebc",
   "metadata": {
    "execution": {
     "iopub.execute_input": "2025-03-26T22:49:35.423316Z",
     "iopub.status.busy": "2025-03-26T22:49:35.423117Z",
     "iopub.status.idle": "2025-03-26T22:49:35.458571Z",
     "shell.execute_reply": "2025-03-26T22:49:35.457975Z"
    },
    "papermill": {
     "duration": 0.043471,
     "end_time": "2025-03-26T22:49:35.459848",
     "exception": false,
     "start_time": "2025-03-26T22:49:35.416377",
     "status": "completed"
    },
    "tags": []
   },
   "outputs": [],
   "source": [
    "train_label = pd.read_csv(Train_Label)"
   ]
  },
  {
   "cell_type": "code",
   "execution_count": 8,
   "id": "8f024f7c",
   "metadata": {
    "execution": {
     "iopub.execute_input": "2025-03-26T22:49:35.473475Z",
     "iopub.status.busy": "2025-03-26T22:49:35.473261Z",
     "iopub.status.idle": "2025-03-26T22:49:35.492164Z",
     "shell.execute_reply": "2025-03-26T22:49:35.491327Z"
    },
    "papermill": {
     "duration": 0.027021,
     "end_time": "2025-03-26T22:49:35.493440",
     "exception": false,
     "start_time": "2025-03-26T22:49:35.466419",
     "status": "completed"
    },
    "tags": []
   },
   "outputs": [
    {
     "data": {
      "text/html": [
       "<div>\n",
       "<style scoped>\n",
       "    .dataframe tbody tr th:only-of-type {\n",
       "        vertical-align: middle;\n",
       "    }\n",
       "\n",
       "    .dataframe tbody tr th {\n",
       "        vertical-align: top;\n",
       "    }\n",
       "\n",
       "    .dataframe thead th {\n",
       "        text-align: right;\n",
       "    }\n",
       "</style>\n",
       "<table border=\"1\" class=\"dataframe\">\n",
       "  <thead>\n",
       "    <tr style=\"text-align: right;\">\n",
       "      <th></th>\n",
       "      <th>id</th>\n",
       "      <th>label</th>\n",
       "    </tr>\n",
       "  </thead>\n",
       "  <tbody>\n",
       "    <tr>\n",
       "      <th>0</th>\n",
       "      <td>1</td>\n",
       "      <td>frog</td>\n",
       "    </tr>\n",
       "    <tr>\n",
       "      <th>1</th>\n",
       "      <td>2</td>\n",
       "      <td>truck</td>\n",
       "    </tr>\n",
       "    <tr>\n",
       "      <th>2</th>\n",
       "      <td>3</td>\n",
       "      <td>truck</td>\n",
       "    </tr>\n",
       "    <tr>\n",
       "      <th>3</th>\n",
       "      <td>4</td>\n",
       "      <td>deer</td>\n",
       "    </tr>\n",
       "    <tr>\n",
       "      <th>4</th>\n",
       "      <td>5</td>\n",
       "      <td>automobile</td>\n",
       "    </tr>\n",
       "  </tbody>\n",
       "</table>\n",
       "</div>"
      ],
      "text/plain": [
       "   id       label\n",
       "0   1        frog\n",
       "1   2       truck\n",
       "2   3       truck\n",
       "3   4        deer\n",
       "4   5  automobile"
      ]
     },
     "execution_count": 8,
     "metadata": {},
     "output_type": "execute_result"
    }
   ],
   "source": [
    "train_label.head(5)"
   ]
  },
  {
   "cell_type": "code",
   "execution_count": 9,
   "id": "cfdb7d39",
   "metadata": {
    "execution": {
     "iopub.execute_input": "2025-03-26T22:49:35.507097Z",
     "iopub.status.busy": "2025-03-26T22:49:35.506841Z",
     "iopub.status.idle": "2025-03-26T22:49:35.513194Z",
     "shell.execute_reply": "2025-03-26T22:49:35.512494Z"
    },
    "papermill": {
     "duration": 0.014421,
     "end_time": "2025-03-26T22:49:35.514404",
     "exception": false,
     "start_time": "2025-03-26T22:49:35.499983",
     "status": "completed"
    },
    "tags": []
   },
   "outputs": [
    {
     "data": {
      "text/html": [
       "<div>\n",
       "<style scoped>\n",
       "    .dataframe tbody tr th:only-of-type {\n",
       "        vertical-align: middle;\n",
       "    }\n",
       "\n",
       "    .dataframe tbody tr th {\n",
       "        vertical-align: top;\n",
       "    }\n",
       "\n",
       "    .dataframe thead th {\n",
       "        text-align: right;\n",
       "    }\n",
       "</style>\n",
       "<table border=\"1\" class=\"dataframe\">\n",
       "  <thead>\n",
       "    <tr style=\"text-align: right;\">\n",
       "      <th></th>\n",
       "      <th>id</th>\n",
       "      <th>label</th>\n",
       "    </tr>\n",
       "  </thead>\n",
       "  <tbody>\n",
       "    <tr>\n",
       "      <th>49995</th>\n",
       "      <td>49996</td>\n",
       "      <td>bird</td>\n",
       "    </tr>\n",
       "    <tr>\n",
       "      <th>49996</th>\n",
       "      <td>49997</td>\n",
       "      <td>frog</td>\n",
       "    </tr>\n",
       "    <tr>\n",
       "      <th>49997</th>\n",
       "      <td>49998</td>\n",
       "      <td>truck</td>\n",
       "    </tr>\n",
       "    <tr>\n",
       "      <th>49998</th>\n",
       "      <td>49999</td>\n",
       "      <td>automobile</td>\n",
       "    </tr>\n",
       "    <tr>\n",
       "      <th>49999</th>\n",
       "      <td>50000</td>\n",
       "      <td>automobile</td>\n",
       "    </tr>\n",
       "  </tbody>\n",
       "</table>\n",
       "</div>"
      ],
      "text/plain": [
       "          id       label\n",
       "49995  49996        bird\n",
       "49996  49997        frog\n",
       "49997  49998       truck\n",
       "49998  49999  automobile\n",
       "49999  50000  automobile"
      ]
     },
     "execution_count": 9,
     "metadata": {},
     "output_type": "execute_result"
    }
   ],
   "source": [
    "train_label.tail(5)"
   ]
  },
  {
   "cell_type": "code",
   "execution_count": 10,
   "id": "b4ae4a51",
   "metadata": {
    "execution": {
     "iopub.execute_input": "2025-03-26T22:49:35.528171Z",
     "iopub.status.busy": "2025-03-26T22:49:35.527968Z",
     "iopub.status.idle": "2025-03-26T22:49:35.539116Z",
     "shell.execute_reply": "2025-03-26T22:49:35.538574Z"
    },
    "papermill": {
     "duration": 0.019343,
     "end_time": "2025-03-26T22:49:35.540317",
     "exception": false,
     "start_time": "2025-03-26T22:49:35.520974",
     "status": "completed"
    },
    "tags": []
   },
   "outputs": [
    {
     "data": {
      "text/html": [
       "<div>\n",
       "<style scoped>\n",
       "    .dataframe tbody tr th:only-of-type {\n",
       "        vertical-align: middle;\n",
       "    }\n",
       "\n",
       "    .dataframe tbody tr th {\n",
       "        vertical-align: top;\n",
       "    }\n",
       "\n",
       "    .dataframe thead th {\n",
       "        text-align: right;\n",
       "    }\n",
       "</style>\n",
       "<table border=\"1\" class=\"dataframe\">\n",
       "  <thead>\n",
       "    <tr style=\"text-align: right;\">\n",
       "      <th></th>\n",
       "      <th>id</th>\n",
       "      <th>label</th>\n",
       "    </tr>\n",
       "  </thead>\n",
       "  <tbody>\n",
       "    <tr>\n",
       "      <th>4</th>\n",
       "      <td>5</td>\n",
       "      <td>automobile</td>\n",
       "    </tr>\n",
       "  </tbody>\n",
       "</table>\n",
       "</div>"
      ],
      "text/plain": [
       "   id       label\n",
       "4   5  automobile"
      ]
     },
     "execution_count": 10,
     "metadata": {},
     "output_type": "execute_result"
    }
   ],
   "source": [
    "train_label[train_label['id'] == 5]"
   ]
  },
  {
   "cell_type": "code",
   "execution_count": 11,
   "id": "630b2430",
   "metadata": {
    "execution": {
     "iopub.execute_input": "2025-03-26T22:49:35.554470Z",
     "iopub.status.busy": "2025-03-26T22:49:35.554254Z",
     "iopub.status.idle": "2025-03-26T22:49:35.558684Z",
     "shell.execute_reply": "2025-03-26T22:49:35.557865Z"
    },
    "papermill": {
     "duration": 0.012878,
     "end_time": "2025-03-26T22:49:35.559973",
     "exception": false,
     "start_time": "2025-03-26T22:49:35.547095",
     "status": "completed"
    },
    "tags": []
   },
   "outputs": [
    {
     "data": {
      "text/plain": [
       "50000"
      ]
     },
     "execution_count": 11,
     "metadata": {},
     "output_type": "execute_result"
    }
   ],
   "source": [
    "len(train_label)"
   ]
  },
  {
   "cell_type": "code",
   "execution_count": 12,
   "id": "af3ca3a6",
   "metadata": {
    "execution": {
     "iopub.execute_input": "2025-03-26T22:49:35.574599Z",
     "iopub.status.busy": "2025-03-26T22:49:35.574358Z",
     "iopub.status.idle": "2025-03-26T22:49:35.586733Z",
     "shell.execute_reply": "2025-03-26T22:49:35.585980Z"
    },
    "papermill": {
     "duration": 0.020861,
     "end_time": "2025-03-26T22:49:35.587868",
     "exception": false,
     "start_time": "2025-03-26T22:49:35.567007",
     "status": "completed"
    },
    "tags": []
   },
   "outputs": [
    {
     "data": {
      "text/plain": [
       "label\n",
       "frog          5000\n",
       "truck         5000\n",
       "deer          5000\n",
       "automobile    5000\n",
       "bird          5000\n",
       "horse         5000\n",
       "ship          5000\n",
       "cat           5000\n",
       "dog           5000\n",
       "airplane      5000\n",
       "Name: count, dtype: int64"
      ]
     },
     "execution_count": 12,
     "metadata": {},
     "output_type": "execute_result"
    }
   ],
   "source": [
    "train_label['label'].value_counts()"
   ]
  },
  {
   "cell_type": "code",
   "execution_count": 13,
   "id": "3faea352",
   "metadata": {
    "execution": {
     "iopub.execute_input": "2025-03-26T22:49:35.602730Z",
     "iopub.status.busy": "2025-03-26T22:49:35.602513Z",
     "iopub.status.idle": "2025-03-26T22:49:35.605660Z",
     "shell.execute_reply": "2025-03-26T22:49:35.605072Z"
    },
    "papermill": {
     "duration": 0.011707,
     "end_time": "2025-03-26T22:49:35.606882",
     "exception": false,
     "start_time": "2025-03-26T22:49:35.595175",
     "status": "completed"
    },
    "tags": []
   },
   "outputs": [],
   "source": [
    "labels_dictionary = {'airplane': 0 , 'automobile': 1 , 'bird': 2 , 'cat': 3 , 'deer': 4, 'dog': 5, 'frog': 6, 'horse': 7, 'ship': 8, 'truck': 9}"
   ]
  },
  {
   "cell_type": "markdown",
   "id": "de36ce3e",
   "metadata": {
    "papermill": {
     "duration": 0.006596,
     "end_time": "2025-03-26T22:49:35.620686",
     "exception": false,
     "start_time": "2025-03-26T22:49:35.614090",
     "status": "completed"
    },
    "tags": []
   },
   "source": [
    "**Here Lebels array is created or train_Y, Here labels, such as, airplane/automobiles are converted to endcoded value**"
   ]
  },
  {
   "cell_type": "code",
   "execution_count": 14,
   "id": "1769239f",
   "metadata": {
    "execution": {
     "iopub.execute_input": "2025-03-26T22:49:35.635297Z",
     "iopub.status.busy": "2025-03-26T22:49:35.635036Z",
     "iopub.status.idle": "2025-03-26T22:49:35.646011Z",
     "shell.execute_reply": "2025-03-26T22:49:35.645113Z"
    },
    "papermill": {
     "duration": 0.020144,
     "end_time": "2025-03-26T22:49:35.647669",
     "exception": false,
     "start_time": "2025-03-26T22:49:35.627525",
     "status": "completed"
    },
    "tags": []
   },
   "outputs": [],
   "source": [
    "label = [labels_dictionary[i] for i in train_label['label']] #Encoded label array"
   ]
  },
  {
   "cell_type": "code",
   "execution_count": 15,
   "id": "060e9dfe",
   "metadata": {
    "execution": {
     "iopub.execute_input": "2025-03-26T22:49:35.665265Z",
     "iopub.status.busy": "2025-03-26T22:49:35.664961Z",
     "iopub.status.idle": "2025-03-26T22:49:35.670764Z",
     "shell.execute_reply": "2025-03-26T22:49:35.669849Z"
    },
    "papermill": {
     "duration": 0.015445,
     "end_time": "2025-03-26T22:49:35.672034",
     "exception": false,
     "start_time": "2025-03-26T22:49:35.656589",
     "status": "completed"
    },
    "tags": []
   },
   "outputs": [
    {
     "name": "stdout",
     "output_type": "stream",
     "text": [
      "[6, 9, 9, 4, 1]\n",
      "[2, 6, 9, 1, 1]\n"
     ]
    }
   ],
   "source": [
    "print(label[:5])\n",
    "print(label[-5:])"
   ]
  },
  {
   "cell_type": "code",
   "execution_count": 16,
   "id": "4e546c61",
   "metadata": {
    "execution": {
     "iopub.execute_input": "2025-03-26T22:49:35.692715Z",
     "iopub.status.busy": "2025-03-26T22:49:35.692225Z",
     "iopub.status.idle": "2025-03-26T22:49:36.092818Z",
     "shell.execute_reply": "2025-03-26T22:49:36.091835Z"
    },
    "papermill": {
     "duration": 0.412854,
     "end_time": "2025-03-26T22:49:36.094508",
     "exception": false,
     "start_time": "2025-03-26T22:49:35.681654",
     "status": "completed"
    },
    "tags": []
   },
   "outputs": [],
   "source": [
    "import cv2\n",
    "from google.colab.patches import cv2_imshow"
   ]
  },
  {
   "cell_type": "code",
   "execution_count": 17,
   "id": "e6cdb136",
   "metadata": {
    "execution": {
     "iopub.execute_input": "2025-03-26T22:49:36.109268Z",
     "iopub.status.busy": "2025-03-26T22:49:36.108996Z",
     "iopub.status.idle": "2025-03-26T22:49:36.129687Z",
     "shell.execute_reply": "2025-03-26T22:49:36.129075Z"
    },
    "papermill": {
     "duration": 0.029373,
     "end_time": "2025-03-26T22:49:36.131107",
     "exception": false,
     "start_time": "2025-03-26T22:49:36.101734",
     "status": "completed"
    },
    "tags": []
   },
   "outputs": [],
   "source": [
    "img = cv2.imread('/kaggle/input/cifar-10-competition-dataset/train/train/1.png')"
   ]
  },
  {
   "cell_type": "code",
   "execution_count": 18,
   "id": "cc3989be",
   "metadata": {
    "execution": {
     "iopub.execute_input": "2025-03-26T22:49:36.145635Z",
     "iopub.status.busy": "2025-03-26T22:49:36.145383Z",
     "iopub.status.idle": "2025-03-26T22:49:36.195850Z",
     "shell.execute_reply": "2025-03-26T22:49:36.194991Z"
    },
    "papermill": {
     "duration": 0.059289,
     "end_time": "2025-03-26T22:49:36.197339",
     "exception": false,
     "start_time": "2025-03-26T22:49:36.138050",
     "status": "completed"
    },
    "tags": []
   },
   "outputs": [
    {
     "data": {
      "image/jpeg": "[encoded data removed]",
      "image/png": "[encoded data removed]",
      "text/plain": [
       "<PIL.Image.Image image mode=RGB size=32x32>"
      ]
     },
     "metadata": {},
     "output_type": "display_data"
    }
   ],
   "source": [
    "cv2_imshow(img)"
   ]
  },
  {
   "cell_type": "code",
   "execution_count": 19,
   "id": "b7d4c9ee",
   "metadata": {
    "execution": {
     "iopub.execute_input": "2025-03-26T22:49:36.212431Z",
     "iopub.status.busy": "2025-03-26T22:49:36.212175Z",
     "iopub.status.idle": "2025-03-26T22:49:36.413430Z",
     "shell.execute_reply": "2025-03-26T22:49:36.412607Z"
    },
    "papermill": {
     "duration": 0.210135,
     "end_time": "2025-03-26T22:49:36.414817",
     "exception": false,
     "start_time": "2025-03-26T22:49:36.204682",
     "status": "completed"
    },
    "tags": []
   },
   "outputs": [
    {
     "data": {
      "text/plain": [
       "<matplotlib.image.AxesImage at 0x7dc0f4a8bac0>"
      ]
     },
     "execution_count": 19,
     "metadata": {},
     "output_type": "execute_result"
    },
    {
     "data": {
      "image/png": "[encoded data removed]",
      "text/plain": [
       "<Figure size 640x480 with 1 Axes>"
      ]
     },
     "metadata": {},
     "output_type": "display_data"
    }
   ],
   "source": [
    "plt.imshow(img)"
   ]
  },
  {
   "cell_type": "markdown",
   "id": "236163b8",
   "metadata": {
    "papermill": {
     "duration": 0.007145,
     "end_time": "2025-03-26T22:49:36.429804",
     "exception": false,
     "start_time": "2025-03-26T22:49:36.422659",
     "status": "completed"
    },
    "tags": []
   },
   "source": [
    "**Printing first 5data to visualize**"
   ]
  },
  {
   "cell_type": "code",
   "execution_count": 20,
   "id": "876bd686",
   "metadata": {
    "execution": {
     "iopub.execute_input": "2025-03-26T22:49:36.445271Z",
     "iopub.status.busy": "2025-03-26T22:49:36.444996Z",
     "iopub.status.idle": "2025-03-26T22:49:36.486074Z",
     "shell.execute_reply": "2025-03-26T22:49:36.485334Z"
    },
    "papermill": {
     "duration": 0.05025,
     "end_time": "2025-03-26T22:49:36.487286",
     "exception": false,
     "start_time": "2025-03-26T22:49:36.437036",
     "status": "completed"
    },
    "tags": []
   },
   "outputs": [
    {
     "data": {
      "image/jpeg": "[encoded data removed]",
      "image/png": "[encoded data removed]",
      "text/plain": [
       "<PIL.Image.Image image mode=RGB size=32x32>"
      ]
     },
     "metadata": {},
     "output_type": "display_data"
    },
    {
     "data": {
      "image/jpeg": "[encoded data removed]",
      "image/png": "[encoded data removed]",
      "text/plain": [
       "<PIL.Image.Image image mode=RGB size=32x32>"
      ]
     },
     "metadata": {},
     "output_type": "display_data"
    },
    {
     "data": {
      "image/jpeg": "[encoded data removed]",
      "image/png": "[encoded data removed]",
      "text/plain": [
       "<PIL.Image.Image image mode=RGB size=32x32>"
      ]
     },
     "metadata": {},
     "output_type": "display_data"
    },
    {
     "data": {
      "image/jpeg": "[encoded data removed]",
      "image/png": "[encoded data removed]",
      "text/plain": [
       "<PIL.Image.Image image mode=RGB size=32x32>"
      ]
     },
     "metadata": {},
     "output_type": "display_data"
    },
    {
     "data": {
      "image/jpeg": "[encoded data removed]",
      "image/png": "[encoded data removed]",
      "text/plain": [
       "<PIL.Image.Image image mode=RGB size=32x32>"
      ]
     },
     "metadata": {},
     "output_type": "display_data"
    }
   ],
   "source": [
    "train_image_path = '/kaggle/input/cifar-10-competition-dataset/train/train/'\n",
    "\n",
    "for i in train_label['id']:\n",
    "    temp = cv2.imread(train_image_path + str(i) + '.png')\n",
    "    cv2_imshow(temp)\n",
    "\n",
    "    if i >= 5:\n",
    "        break"
   ]
  },
  {
   "cell_type": "markdown",
   "id": "ffa1850c",
   "metadata": {
    "papermill": {
     "duration": 0.007684,
     "end_time": "2025-03-26T22:49:36.503229",
     "exception": false,
     "start_time": "2025-03-26T22:49:36.495545",
     "status": "completed"
    },
    "tags": []
   },
   "source": [
    "**image_features are created here**"
   ]
  },
  {
   "cell_type": "code",
   "execution_count": 21,
   "id": "9d9f6a4c",
   "metadata": {
    "execution": {
     "iopub.execute_input": "2025-03-26T22:49:36.519721Z",
     "iopub.status.busy": "2025-03-26T22:49:36.519482Z",
     "iopub.status.idle": "2025-03-26T22:55:30.678269Z",
     "shell.execute_reply": "2025-03-26T22:55:30.677514Z"
    },
    "papermill": {
     "duration": 354.168767,
     "end_time": "2025-03-26T22:55:30.679858",
     "exception": false,
     "start_time": "2025-03-26T22:49:36.511091",
     "status": "completed"
    },
    "tags": []
   },
   "outputs": [],
   "source": [
    "train_image_path = '/kaggle/input/cifar-10-competition-dataset/train/train/'\n",
    "img_data = [] #Empty array\n",
    "\n",
    "for i in train_label['id']:\n",
    "    temp = cv2.imread(train_image_path + str(i) + '.png')\n",
    "    img_data.append(temp)"
   ]
  },
  {
   "cell_type": "code",
   "execution_count": 22,
   "id": "6c06c23a",
   "metadata": {
    "execution": {
     "iopub.execute_input": "2025-03-26T22:55:30.697826Z",
     "iopub.status.busy": "2025-03-26T22:55:30.697553Z",
     "iopub.status.idle": "2025-03-26T22:55:30.702017Z",
     "shell.execute_reply": "2025-03-26T22:55:30.701214Z"
    },
    "papermill": {
     "duration": 0.014352,
     "end_time": "2025-03-26T22:55:30.703314",
     "exception": false,
     "start_time": "2025-03-26T22:55:30.688962",
     "status": "completed"
    },
    "tags": []
   },
   "outputs": [
    {
     "data": {
      "text/plain": [
       "list"
      ]
     },
     "execution_count": 22,
     "metadata": {},
     "output_type": "execute_result"
    }
   ],
   "source": [
    "type(img_data)"
   ]
  },
  {
   "cell_type": "code",
   "execution_count": 23,
   "id": "24ec2083",
   "metadata": {
    "execution": {
     "iopub.execute_input": "2025-03-26T22:55:30.719981Z",
     "iopub.status.busy": "2025-03-26T22:55:30.719751Z",
     "iopub.status.idle": "2025-03-26T22:55:30.723973Z",
     "shell.execute_reply": "2025-03-26T22:55:30.723323Z"
    },
    "papermill": {
     "duration": 0.013863,
     "end_time": "2025-03-26T22:55:30.725063",
     "exception": false,
     "start_time": "2025-03-26T22:55:30.711200",
     "status": "completed"
    },
    "tags": []
   },
   "outputs": [
    {
     "data": {
      "text/plain": [
       "50000"
      ]
     },
     "execution_count": 23,
     "metadata": {},
     "output_type": "execute_result"
    }
   ],
   "source": [
    "len(img_data)"
   ]
  },
  {
   "cell_type": "code",
   "execution_count": 24,
   "id": "00688256",
   "metadata": {
    "execution": {
     "iopub.execute_input": "2025-03-26T22:55:30.741741Z",
     "iopub.status.busy": "2025-03-26T22:55:30.741541Z",
     "iopub.status.idle": "2025-03-26T22:55:30.745689Z",
     "shell.execute_reply": "2025-03-26T22:55:30.744892Z"
    },
    "papermill": {
     "duration": 0.014019,
     "end_time": "2025-03-26T22:55:30.747018",
     "exception": false,
     "start_time": "2025-03-26T22:55:30.732999",
     "status": "completed"
    },
    "tags": []
   },
   "outputs": [
    {
     "data": {
      "text/plain": [
       "numpy.ndarray"
      ]
     },
     "execution_count": 24,
     "metadata": {},
     "output_type": "execute_result"
    }
   ],
   "source": [
    "type(img_data[0])"
   ]
  },
  {
   "cell_type": "code",
   "execution_count": 25,
   "id": "d3faf50f",
   "metadata": {
    "execution": {
     "iopub.execute_input": "2025-03-26T22:55:30.763657Z",
     "iopub.status.busy": "2025-03-26T22:55:30.763437Z",
     "iopub.status.idle": "2025-03-26T22:55:30.768101Z",
     "shell.execute_reply": "2025-03-26T22:55:30.767459Z"
    },
    "papermill": {
     "duration": 0.014232,
     "end_time": "2025-03-26T22:55:30.769293",
     "exception": false,
     "start_time": "2025-03-26T22:55:30.755061",
     "status": "completed"
    },
    "tags": []
   },
   "outputs": [
    {
     "name": "stdout",
     "output_type": "stream",
     "text": [
      "(32, 32, 3)\n",
      "(32, 32, 3)\n",
      "(32, 32, 3)\n",
      "(32, 32, 3)\n",
      "(32, 32, 3)\n"
     ]
    }
   ],
   "source": [
    "for i in range(5):\n",
    "    print(img_data[i].shape)"
   ]
  },
  {
   "cell_type": "code",
   "execution_count": 26,
   "id": "e01f8fd1",
   "metadata": {
    "execution": {
     "iopub.execute_input": "2025-03-26T22:55:30.786601Z",
     "iopub.status.busy": "2025-03-26T22:55:30.786394Z",
     "iopub.status.idle": "2025-03-26T22:55:30.873246Z",
     "shell.execute_reply": "2025-03-26T22:55:30.872475Z"
    },
    "papermill": {
     "duration": 0.097297,
     "end_time": "2025-03-26T22:55:30.874825",
     "exception": false,
     "start_time": "2025-03-26T22:55:30.777528",
     "status": "completed"
    },
    "tags": []
   },
   "outputs": [],
   "source": [
    "X = np.array(img_data)\n",
    "Y = np.array(label)"
   ]
  },
  {
   "cell_type": "code",
   "execution_count": 27,
   "id": "eb29ef61",
   "metadata": {
    "execution": {
     "iopub.execute_input": "2025-03-26T22:55:30.892789Z",
     "iopub.status.busy": "2025-03-26T22:55:30.892501Z",
     "iopub.status.idle": "2025-03-26T22:55:30.896930Z",
     "shell.execute_reply": "2025-03-26T22:55:30.896111Z"
    },
    "papermill": {
     "duration": 0.014515,
     "end_time": "2025-03-26T22:55:30.898114",
     "exception": false,
     "start_time": "2025-03-26T22:55:30.883599",
     "status": "completed"
    },
    "tags": []
   },
   "outputs": [
    {
     "name": "stdout",
     "output_type": "stream",
     "text": [
      "(50000, 32, 32, 3)\n",
      "(50000,)\n"
     ]
    }
   ],
   "source": [
    "print(X.shape)\n",
    "print(Y.shape)"
   ]
  },
  {
   "cell_type": "markdown",
   "id": "1caa2afa",
   "metadata": {
    "papermill": {
     "duration": 0.007961,
     "end_time": "2025-03-26T22:55:30.914378",
     "exception": false,
     "start_time": "2025-03-26T22:55:30.906417",
     "status": "completed"
    },
    "tags": []
   },
   "source": [
    "**Normalizing the feature values from 0 to 1**"
   ]
  },
  {
   "cell_type": "code",
   "execution_count": 28,
   "id": "0f72c922",
   "metadata": {
    "execution": {
     "iopub.execute_input": "2025-03-26T22:55:30.931482Z",
     "iopub.status.busy": "2025-03-26T22:55:30.931236Z",
     "iopub.status.idle": "2025-03-26T22:55:31.326964Z",
     "shell.execute_reply": "2025-03-26T22:55:31.325999Z"
    },
    "papermill": {
     "duration": 0.406194,
     "end_time": "2025-03-26T22:55:31.328636",
     "exception": false,
     "start_time": "2025-03-26T22:55:30.922442",
     "status": "completed"
    },
    "tags": []
   },
   "outputs": [],
   "source": [
    "X = X/255"
   ]
  },
  {
   "cell_type": "markdown",
   "id": "49c24ea3",
   "metadata": {
    "papermill": {
     "duration": 0.008196,
     "end_time": "2025-03-26T22:55:31.345747",
     "exception": false,
     "start_time": "2025-03-26T22:55:31.337551",
     "status": "completed"
    },
    "tags": []
   },
   "source": [
    "**Splitting train and test data**"
   ]
  },
  {
   "cell_type": "code",
   "execution_count": 29,
   "id": "82a0d37f",
   "metadata": {
    "execution": {
     "iopub.execute_input": "2025-03-26T22:55:31.363278Z",
     "iopub.status.busy": "2025-03-26T22:55:31.362979Z",
     "iopub.status.idle": "2025-03-26T22:55:31.719142Z",
     "shell.execute_reply": "2025-03-26T22:55:31.718168Z"
    },
    "papermill": {
     "duration": 0.366727,
     "end_time": "2025-03-26T22:55:31.720783",
     "exception": false,
     "start_time": "2025-03-26T22:55:31.354056",
     "status": "completed"
    },
    "tags": []
   },
   "outputs": [],
   "source": [
    "X_train, X_test, Y_train, Y_test = train_test_split(X, Y, test_size = 0.2 , random_state = 2)"
   ]
  },
  {
   "cell_type": "markdown",
   "id": "5558eb12",
   "metadata": {
    "papermill": {
     "duration": 0.008048,
     "end_time": "2025-03-26T22:55:31.737500",
     "exception": false,
     "start_time": "2025-03-26T22:55:31.729452",
     "status": "completed"
    },
    "tags": []
   },
   "source": [
    "**Building the neural network**"
   ]
  },
  {
   "cell_type": "code",
   "execution_count": 30,
   "id": "1fbff7c3",
   "metadata": {
    "execution": {
     "iopub.execute_input": "2025-03-26T22:55:31.754712Z",
     "iopub.status.busy": "2025-03-26T22:55:31.754460Z",
     "iopub.status.idle": "2025-03-26T22:55:43.028867Z",
     "shell.execute_reply": "2025-03-26T22:55:43.028176Z"
    },
    "papermill": {
     "duration": 11.284758,
     "end_time": "2025-03-26T22:55:43.030479",
     "exception": false,
     "start_time": "2025-03-26T22:55:31.745721",
     "status": "completed"
    },
    "tags": []
   },
   "outputs": [],
   "source": [
    "import tensorflow as tf\n",
    "from tensorflow import keras"
   ]
  },
  {
   "cell_type": "markdown",
   "id": "0cdcf04c",
   "metadata": {
    "papermill": {
     "duration": 0.008177,
     "end_time": "2025-03-26T22:55:43.048198",
     "exception": false,
     "start_time": "2025-03-26T22:55:43.040021",
     "status": "completed"
    },
    "tags": []
   },
   "source": [
    "*The neural network is created*"
   ]
  },
  {
   "cell_type": "code",
   "execution_count": 31,
   "id": "b8991e89",
   "metadata": {
    "execution": {
     "iopub.execute_input": "2025-03-26T22:55:43.065904Z",
     "iopub.status.busy": "2025-03-26T22:55:43.065387Z",
     "iopub.status.idle": "2025-03-26T22:55:45.290128Z",
     "shell.execute_reply": "2025-03-26T22:55:45.289174Z"
    },
    "papermill": {
     "duration": 2.235261,
     "end_time": "2025-03-26T22:55:45.291666",
     "exception": false,
     "start_time": "2025-03-26T22:55:43.056405",
     "status": "completed"
    },
    "tags": []
   },
   "outputs": [
    {
     "name": "stderr",
     "output_type": "stream",
     "text": [
      "/usr/local/lib/python3.10/dist-packages/keras/src/layers/reshaping/flatten.py:37: UserWarning: Do not pass an `input_shape`/`input_dim` argument to a layer. When using Sequential models, prefer using an `Input(shape)` object as the first layer in the model instead.\n",
      "  super().__init__(**kwargs)\n"
     ]
    }
   ],
   "source": [
    "model = keras.Sequential([\n",
    "    keras.layers.Flatten(input_shape = (32 , 32 , 3)), #input layer\n",
    "    keras.layers.Dense(64 , activation = 'relu'), #hidden layer\n",
    "    keras.layers.Dense(10 , activation = 'softmax'), #output layer\n",
    "])"
   ]
  },
  {
   "cell_type": "markdown",
   "id": "5c00a8e5",
   "metadata": {
    "papermill": {
     "duration": 0.008386,
     "end_time": "2025-03-26T22:55:45.308978",
     "exception": false,
     "start_time": "2025-03-26T22:55:45.300592",
     "status": "completed"
    },
    "tags": []
   },
   "source": [
    "*Parameters of the neural network*"
   ]
  },
  {
   "cell_type": "code",
   "execution_count": 32,
   "id": "1366e277",
   "metadata": {
    "execution": {
     "iopub.execute_input": "2025-03-26T22:55:45.326525Z",
     "iopub.status.busy": "2025-03-26T22:55:45.326231Z",
     "iopub.status.idle": "2025-03-26T22:55:45.337797Z",
     "shell.execute_reply": "2025-03-26T22:55:45.336980Z"
    },
    "papermill": {
     "duration": 0.021791,
     "end_time": "2025-03-26T22:55:45.339045",
     "exception": false,
     "start_time": "2025-03-26T22:55:45.317254",
     "status": "completed"
    },
    "tags": []
   },
   "outputs": [],
   "source": [
    "model.compile(\n",
    "    optimizer = 'adam', #the other optimizers are\n",
    "    loss = 'sparse_categorical_crossentropy', #as labels are encoded so sparse is used\n",
    "    metrics = ['acc']\n",
    ")"
   ]
  },
  {
   "cell_type": "markdown",
   "id": "819f280c",
   "metadata": {
    "papermill": {
     "duration": 0.00809,
     "end_time": "2025-03-26T22:55:45.355444",
     "exception": false,
     "start_time": "2025-03-26T22:55:45.347354",
     "status": "completed"
    },
    "tags": []
   },
   "source": [
    "*Feeding the data to the neural network*"
   ]
  },
  {
   "cell_type": "code",
   "execution_count": 33,
   "id": "ab8064ea",
   "metadata": {
    "execution": {
     "iopub.execute_input": "2025-03-26T22:55:45.372811Z",
     "iopub.status.busy": "2025-03-26T22:55:45.372530Z",
     "iopub.status.idle": "2025-03-26T22:56:05.272724Z",
     "shell.execute_reply": "2025-03-26T22:56:05.271933Z"
    },
    "papermill": {
     "duration": 19.910474,
     "end_time": "2025-03-26T22:56:05.274145",
     "exception": false,
     "start_time": "2025-03-26T22:55:45.363671",
     "status": "completed"
    },
    "tags": []
   },
   "outputs": [
    {
     "name": "stdout",
     "output_type": "stream",
     "text": [
      "Epoch 1/10\n",
      "\u001b[1m1125/1125\u001b[0m \u001b[32m━━━━━━━━━━━━━━━━━━━━\u001b[0m\u001b[37m\u001b[0m \u001b[1m4s\u001b[0m 2ms/step - acc: 0.2267 - loss: 2.1196 - val_acc: 0.3088 - val_loss: 1.8980\n",
      "Epoch 2/10\n",
      "\u001b[1m1125/1125\u001b[0m \u001b[32m━━━━━━━━━━━━━━━━━━━━\u001b[0m\u001b[37m\u001b[0m \u001b[1m2s\u001b[0m 1ms/step - acc: 0.3157 - loss: 1.8929 - val_acc: 0.3270 - val_loss: 1.8555\n",
      "Epoch 3/10\n",
      "\u001b[1m1125/1125\u001b[0m \u001b[32m━━━━━━━━━━━━━━━━━━━━\u001b[0m\u001b[37m\u001b[0m \u001b[1m2s\u001b[0m 1ms/step - acc: 0.3347 - loss: 1.8520 - val_acc: 0.3307 - val_loss: 1.8380\n",
      "Epoch 4/10\n",
      "\u001b[1m1125/1125\u001b[0m \u001b[32m━━━━━━━━━━━━━━━━━━━━\u001b[0m\u001b[37m\u001b[0m \u001b[1m2s\u001b[0m 1ms/step - acc: 0.3350 - loss: 1.8397 - val_acc: 0.3428 - val_loss: 1.8112\n",
      "Epoch 5/10\n",
      "\u001b[1m1125/1125\u001b[0m \u001b[32m━━━━━━━━━━━━━━━━━━━━\u001b[0m\u001b[37m\u001b[0m \u001b[1m2s\u001b[0m 1ms/step - acc: 0.3423 - loss: 1.8231 - val_acc: 0.3368 - val_loss: 1.8348\n",
      "Epoch 6/10\n",
      "\u001b[1m1125/1125\u001b[0m \u001b[32m━━━━━━━━━━━━━━━━━━━━\u001b[0m\u001b[37m\u001b[0m \u001b[1m2s\u001b[0m 1ms/step - acc: 0.3429 - loss: 1.8209 - val_acc: 0.3300 - val_loss: 1.8366\n",
      "Epoch 7/10\n",
      "\u001b[1m1125/1125\u001b[0m \u001b[32m━━━━━━━━━━━━━━━━━━━━\u001b[0m\u001b[37m\u001b[0m \u001b[1m2s\u001b[0m 1ms/step - acc: 0.3425 - loss: 1.8165 - val_acc: 0.3388 - val_loss: 1.8113\n",
      "Epoch 8/10\n",
      "\u001b[1m1125/1125\u001b[0m \u001b[32m━━━━━━━━━━━━━━━━━━━━\u001b[0m\u001b[37m\u001b[0m \u001b[1m2s\u001b[0m 1ms/step - acc: 0.3455 - loss: 1.8069 - val_acc: 0.3458 - val_loss: 1.7888\n",
      "Epoch 9/10\n",
      "\u001b[1m1125/1125\u001b[0m \u001b[32m━━━━━━━━━━━━━━━━━━━━\u001b[0m\u001b[37m\u001b[0m \u001b[1m2s\u001b[0m 1ms/step - acc: 0.3440 - loss: 1.7997 - val_acc: 0.3490 - val_loss: 1.7892\n",
      "Epoch 10/10\n",
      "\u001b[1m1125/1125\u001b[0m \u001b[32m━━━━━━━━━━━━━━━━━━━━\u001b[0m\u001b[37m\u001b[0m \u001b[1m2s\u001b[0m 1ms/step - acc: 0.3541 - loss: 1.7892 - val_acc: 0.3365 - val_loss: 1.8083\n"
     ]
    },
    {
     "data": {
      "text/plain": [
       "<keras.src.callbacks.history.History at 0x7dbff63b40d0>"
      ]
     },
     "execution_count": 33,
     "metadata": {},
     "output_type": "execute_result"
    }
   ],
   "source": [
    "model.fit(X_train , Y_train , validation_split = 0.1 , epochs = 10)"
   ]
  },
  {
   "cell_type": "code",
   "execution_count": 34,
   "id": "e72da559",
   "metadata": {
    "execution": {
     "iopub.execute_input": "2025-03-26T22:56:05.322992Z",
     "iopub.status.busy": "2025-03-26T22:56:05.322622Z",
     "iopub.status.idle": "2025-03-26T22:56:57.499131Z",
     "shell.execute_reply": "2025-03-26T22:56:57.498311Z"
    },
    "papermill": {
     "duration": 52.20152,
     "end_time": "2025-03-26T22:56:57.500386",
     "exception": false,
     "start_time": "2025-03-26T22:56:05.298866",
     "status": "completed"
    },
    "tags": []
   },
   "outputs": [
    {
     "name": "stdout",
     "output_type": "stream",
     "text": [
      "Epoch 1/10\n",
      "\u001b[1m3600/3600\u001b[0m \u001b[32m━━━━━━━━━━━━━━━━━━━━\u001b[0m\u001b[37m\u001b[0m \u001b[1m6s\u001b[0m 2ms/step - acc: 0.3229 - loss: 1.8443 - val_acc: 0.3167 - val_loss: 1.8776\n",
      "Epoch 2/10\n",
      "\u001b[1m3600/3600\u001b[0m \u001b[32m━━━━━━━━━━━━━━━━━━━━\u001b[0m\u001b[37m\u001b[0m \u001b[1m5s\u001b[0m 1ms/step - acc: 0.3432 - loss: 1.8098 - val_acc: 0.3430 - val_loss: 1.8230\n",
      "Epoch 3/10\n",
      "\u001b[1m3600/3600\u001b[0m \u001b[32m━━━━━━━━━━━━━━━━━━━━\u001b[0m\u001b[37m\u001b[0m \u001b[1m5s\u001b[0m 1ms/step - acc: 0.3430 - loss: 1.8080 - val_acc: 0.3315 - val_loss: 1.8109\n",
      "Epoch 4/10\n",
      "\u001b[1m3600/3600\u001b[0m \u001b[32m━━━━━━━━━━━━━━━━━━━━\u001b[0m\u001b[37m\u001b[0m \u001b[1m5s\u001b[0m 1ms/step - acc: 0.3510 - loss: 1.7915 - val_acc: 0.3433 - val_loss: 1.7842\n",
      "Epoch 5/10\n",
      "\u001b[1m3600/3600\u001b[0m \u001b[32m━━━━━━━━━━━━━━━━━━━━\u001b[0m\u001b[37m\u001b[0m \u001b[1m5s\u001b[0m 1ms/step - acc: 0.3490 - loss: 1.7839 - val_acc: 0.3345 - val_loss: 1.8128\n",
      "Epoch 6/10\n",
      "\u001b[1m3600/3600\u001b[0m \u001b[32m━━━━━━━━━━━━━━━━━━━━\u001b[0m\u001b[37m\u001b[0m \u001b[1m5s\u001b[0m 1ms/step - acc: 0.3552 - loss: 1.7829 - val_acc: 0.3372 - val_loss: 1.8234\n",
      "Epoch 7/10\n",
      "\u001b[1m3600/3600\u001b[0m \u001b[32m━━━━━━━━━━━━━━━━━━━━\u001b[0m\u001b[37m\u001b[0m \u001b[1m5s\u001b[0m 1ms/step - acc: 0.3529 - loss: 1.7824 - val_acc: 0.3327 - val_loss: 1.8361\n",
      "Epoch 8/10\n",
      "\u001b[1m3600/3600\u001b[0m \u001b[32m━━━━━━━━━━━━━━━━━━━━\u001b[0m\u001b[37m\u001b[0m \u001b[1m5s\u001b[0m 1ms/step - acc: 0.3603 - loss: 1.7748 - val_acc: 0.3390 - val_loss: 1.7859\n",
      "Epoch 9/10\n",
      "\u001b[1m3600/3600\u001b[0m \u001b[32m━━━━━━━━━━━━━━━━━━━━\u001b[0m\u001b[37m\u001b[0m \u001b[1m5s\u001b[0m 1ms/step - acc: 0.3652 - loss: 1.7654 - val_acc: 0.3420 - val_loss: 1.7959\n",
      "Epoch 10/10\n",
      "\u001b[1m3600/3600\u001b[0m \u001b[32m━━━━━━━━━━━━━━━━━━━━\u001b[0m\u001b[37m\u001b[0m \u001b[1m5s\u001b[0m 1ms/step - acc: 0.3585 - loss: 1.7626 - val_acc: 0.3570 - val_loss: 1.7699\n"
     ]
    },
    {
     "data": {
      "text/plain": [
       "<keras.src.callbacks.history.History at 0x7dbfe2620c70>"
      ]
     },
     "execution_count": 34,
     "metadata": {},
     "output_type": "execute_result"
    }
   ],
   "source": [
    "model.fit(X_train , Y_train , validation_split = 0.1 , batch_size = 10 , epochs = 10)"
   ]
  },
  {
   "cell_type": "code",
   "execution_count": null,
   "id": "465ff2b7",
   "metadata": {
    "papermill": {
     "duration": 0.064031,
     "end_time": "2025-03-26T22:56:57.628759",
     "exception": false,
     "start_time": "2025-03-26T22:56:57.564728",
     "status": "completed"
    },
    "tags": []
   },
   "outputs": [],
   "source": []
  }
 ],
 "metadata": {
  "kaggle": {
   "accelerator": "gpu",
   "dataSources": [
    {
     "datasetId": 6967459,
     "sourceId": 11165242,
     "sourceType": "datasetVersion"
    }
   ],
   "dockerImageVersionId": 30919,
   "isGpuEnabled": true,
   "isInternetEnabled": true,
   "language": "python",
   "sourceType": "notebook"
  },
  "kernelspec": {
   "display_name": "Python 3",
   "language": "python",
   "name": "python3"
  },
  "language_info": {
   "codemirror_mode": {
    "name": "ipython",
    "version": 3
   },
   "file_extension": ".py",
   "mimetype": "text/x-python",
   "name": "python",
   "nbconvert_exporter": "python",
   "pygments_lexer": "ipython3",
   "version": "3.10.12"
  },
  "papermill": {
   "default_parameters": {},
   "duration": 449.987903,
   "end_time": "2025-03-26T22:57:00.234709",
   "environment_variables": {},
   "exception": null,
   "input_path": "__notebook__.ipynb",
   "output_path": "__notebook__.ipynb",
   "parameters": {},
   "start_time": "2025-03-26T22:49:30.246806",
   "version": "2.6.0"
  }
 },
 "nbformat": 4,
 "nbformat_minor": 5
}
